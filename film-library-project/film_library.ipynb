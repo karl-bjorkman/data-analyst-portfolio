{
 "cells": [
  {
   "cell_type": "code",
   "execution_count": 42,
   "id": "76071f89",
   "metadata": {},
   "outputs": [
    {
     "data": {
      "text/html": [
       "<div>\n",
       "<style scoped>\n",
       "    .dataframe tbody tr th:only-of-type {\n",
       "        vertical-align: middle;\n",
       "    }\n",
       "\n",
       "    .dataframe tbody tr th {\n",
       "        vertical-align: top;\n",
       "    }\n",
       "\n",
       "    .dataframe thead th {\n",
       "        text-align: right;\n",
       "    }\n",
       "</style>\n",
       "<table border=\"1\" class=\"dataframe\">\n",
       "  <thead>\n",
       "    <tr style=\"text-align: right;\">\n",
       "      <th></th>\n",
       "      <th>Position</th>\n",
       "      <th>Name</th>\n",
       "      <th>Year</th>\n",
       "      <th>URL</th>\n",
       "      <th>Description</th>\n",
       "    </tr>\n",
       "  </thead>\n",
       "  <tbody>\n",
       "    <tr>\n",
       "      <th>0</th>\n",
       "      <td>1</td>\n",
       "      <td>12 Angry Men</td>\n",
       "      <td>1957</td>\n",
       "      <td>https://boxd.it/2auI</td>\n",
       "      <td>#591</td>\n",
       "    </tr>\n",
       "    <tr>\n",
       "      <th>1</th>\n",
       "      <td>2</td>\n",
       "      <td>12 Years a Slave</td>\n",
       "      <td>2013</td>\n",
       "      <td>https://boxd.it/2D2e</td>\n",
       "      <td>NaN</td>\n",
       "    </tr>\n",
       "    <tr>\n",
       "      <th>2</th>\n",
       "      <td>3</td>\n",
       "      <td>1917</td>\n",
       "      <td>2019</td>\n",
       "      <td>https://boxd.it/jj4y</td>\n",
       "      <td>NaN</td>\n",
       "    </tr>\n",
       "    <tr>\n",
       "      <th>3</th>\n",
       "      <td>4</td>\n",
       "      <td>2001: A Space Odyssey</td>\n",
       "      <td>1968</td>\n",
       "      <td>https://boxd.it/2bf0</td>\n",
       "      <td>NaN</td>\n",
       "    </tr>\n",
       "    <tr>\n",
       "      <th>4</th>\n",
       "      <td>5</td>\n",
       "      <td>The 39 Steps</td>\n",
       "      <td>1935</td>\n",
       "      <td>https://boxd.it/2aKc</td>\n",
       "      <td>#56</td>\n",
       "    </tr>\n",
       "  </tbody>\n",
       "</table>\n",
       "</div>"
      ],
      "text/plain": [
       "   Position                   Name  Year                   URL Description\n",
       "0         1           12 Angry Men  1957  https://boxd.it/2auI        #591\n",
       "1         2       12 Years a Slave  2013  https://boxd.it/2D2e         NaN\n",
       "2         3                   1917  2019  https://boxd.it/jj4y         NaN\n",
       "3         4  2001: A Space Odyssey  1968  https://boxd.it/2bf0         NaN\n",
       "4         5           The 39 Steps  1935  https://boxd.it/2aKc         #56"
      ]
     },
     "execution_count": 42,
     "metadata": {},
     "output_type": "execute_result"
    }
   ],
   "source": [
    "import pandas as pd\n",
    "import random\n",
    "import time\n",
    "from datetime import datetime\n",
    "\n",
    "df = pd.read_csv('film_collection.csv')\n",
    "df.head()"
   ]
  },
  {
   "cell_type": "code",
   "execution_count": 43,
   "id": "12909b6a",
   "metadata": {},
   "outputs": [
    {
     "data": {
      "text/html": [
       "<div>\n",
       "<style scoped>\n",
       "    .dataframe tbody tr th:only-of-type {\n",
       "        vertical-align: middle;\n",
       "    }\n",
       "\n",
       "    .dataframe tbody tr th {\n",
       "        vertical-align: top;\n",
       "    }\n",
       "\n",
       "    .dataframe thead th {\n",
       "        text-align: right;\n",
       "    }\n",
       "</style>\n",
       "<table border=\"1\" class=\"dataframe\">\n",
       "  <thead>\n",
       "    <tr style=\"text-align: right;\">\n",
       "      <th></th>\n",
       "      <th>Name</th>\n",
       "      <th>Year</th>\n",
       "    </tr>\n",
       "  </thead>\n",
       "  <tbody>\n",
       "    <tr>\n",
       "      <th>0</th>\n",
       "      <td>12 Angry Men</td>\n",
       "      <td>1957</td>\n",
       "    </tr>\n",
       "    <tr>\n",
       "      <th>1</th>\n",
       "      <td>12 Years a Slave</td>\n",
       "      <td>2013</td>\n",
       "    </tr>\n",
       "    <tr>\n",
       "      <th>2</th>\n",
       "      <td>1917</td>\n",
       "      <td>2019</td>\n",
       "    </tr>\n",
       "    <tr>\n",
       "      <th>3</th>\n",
       "      <td>2001: A Space Odyssey</td>\n",
       "      <td>1968</td>\n",
       "    </tr>\n",
       "    <tr>\n",
       "      <th>4</th>\n",
       "      <td>The 39 Steps</td>\n",
       "      <td>1935</td>\n",
       "    </tr>\n",
       "  </tbody>\n",
       "</table>\n",
       "</div>"
      ],
      "text/plain": [
       "                    Name  Year\n",
       "0           12 Angry Men  1957\n",
       "1       12 Years a Slave  2013\n",
       "2                   1917  2019\n",
       "3  2001: A Space Odyssey  1968\n",
       "4           The 39 Steps  1935"
      ]
     },
     "execution_count": 43,
     "metadata": {},
     "output_type": "execute_result"
    }
   ],
   "source": [
    "drop_columns = ['Position', 'URL', 'Description']\n",
    "film_lib = df.drop(labels = drop_columns, axis = 1)\n",
    "film_lib.head()"
   ]
  },
  {
   "cell_type": "code",
   "execution_count": 44,
   "id": "7b54c05b",
   "metadata": {},
   "outputs": [
    {
     "name": "stdout",
     "output_type": "stream",
     "text": [
      "<class 'pandas.core.frame.DataFrame'>\n",
      "RangeIndex: 376 entries, 0 to 375\n",
      "Data columns (total 2 columns):\n",
      " #   Column  Non-Null Count  Dtype \n",
      "---  ------  --------------  ----- \n",
      " 0   Name    376 non-null    object\n",
      " 1   Year    376 non-null    int64 \n",
      "dtypes: int64(1), object(1)\n",
      "memory usage: 6.0+ KB\n"
     ]
    }
   ],
   "source": [
    "film_lib.info()"
   ]
  },
  {
   "cell_type": "code",
   "execution_count": 70,
   "id": "8a91dce8",
   "metadata": {},
   "outputs": [
    {
     "data": {
      "image/png": "[encoded data removed]",
      "text/plain": [
       "<Figure size 640x480 with 1 Axes>"
      ]
     },
     "metadata": {},
     "output_type": "display_data"
    }
   ],
   "source": [
    "import matplotlib.pyplot as plt\n",
    "import seaborn as sns\n",
    "\n",
    "plt.hist(film_lib['Year'], bins = 50, edgecolor = 'black')\n",
    "plt.title('Film Year Distribution')\n",
    "plt.xlabel('Year')\n",
    "plt.ylabel('Count')\n",
    "plt.show()"
   ]
  },
  {
   "cell_type": "code",
   "execution_count": 46,
   "id": "b2f1be81",
   "metadata": {},
   "outputs": [
    {
     "data": {
      "text/html": [
       "<div>\n",
       "<style scoped>\n",
       "    .dataframe tbody tr th:only-of-type {\n",
       "        vertical-align: middle;\n",
       "    }\n",
       "\n",
       "    .dataframe tbody tr th {\n",
       "        vertical-align: top;\n",
       "    }\n",
       "\n",
       "    .dataframe thead th {\n",
       "        text-align: right;\n",
       "    }\n",
       "</style>\n",
       "<table border=\"1\" class=\"dataframe\">\n",
       "  <thead>\n",
       "    <tr style=\"text-align: right;\">\n",
       "      <th></th>\n",
       "      <th>Date</th>\n",
       "      <th>Name</th>\n",
       "      <th>Year</th>\n",
       "      <th>Letterboxd URI</th>\n",
       "      <th>Rating</th>\n",
       "      <th>Rewatch</th>\n",
       "      <th>Tags</th>\n",
       "      <th>Watched Date</th>\n",
       "    </tr>\n",
       "  </thead>\n",
       "  <tbody>\n",
       "    <tr>\n",
       "      <th>0</th>\n",
       "      <td>2018-06-20</td>\n",
       "      <td>Incredibles 2</td>\n",
       "      <td>2018</td>\n",
       "      <td>https://boxd.it/tfLaD</td>\n",
       "      <td>2.5</td>\n",
       "      <td>NaN</td>\n",
       "      <td>NaN</td>\n",
       "      <td>2018-06-16</td>\n",
       "    </tr>\n",
       "    <tr>\n",
       "      <th>1</th>\n",
       "      <td>2018-06-21</td>\n",
       "      <td>First Reformed</td>\n",
       "      <td>2017</td>\n",
       "      <td>https://boxd.it/thF1f</td>\n",
       "      <td>4.0</td>\n",
       "      <td>Yes</td>\n",
       "      <td>NaN</td>\n",
       "      <td>2018-06-19</td>\n",
       "    </tr>\n",
       "    <tr>\n",
       "      <th>2</th>\n",
       "      <td>2018-06-22</td>\n",
       "      <td>Carol</td>\n",
       "      <td>2015</td>\n",
       "      <td>https://boxd.it/tkNv9</td>\n",
       "      <td>4.5</td>\n",
       "      <td>NaN</td>\n",
       "      <td>NaN</td>\n",
       "      <td>2018-06-21</td>\n",
       "    </tr>\n",
       "    <tr>\n",
       "      <th>3</th>\n",
       "      <td>2018-06-23</td>\n",
       "      <td>Won't You Be My Neighbor?</td>\n",
       "      <td>2018</td>\n",
       "      <td>https://boxd.it/tmk1X</td>\n",
       "      <td>5.0</td>\n",
       "      <td>NaN</td>\n",
       "      <td>NaN</td>\n",
       "      <td>2018-06-22</td>\n",
       "    </tr>\n",
       "    <tr>\n",
       "      <th>4</th>\n",
       "      <td>2018-06-26</td>\n",
       "      <td>The Intern</td>\n",
       "      <td>2015</td>\n",
       "      <td>https://boxd.it/ttCn7</td>\n",
       "      <td>3.0</td>\n",
       "      <td>Yes</td>\n",
       "      <td>NaN</td>\n",
       "      <td>2018-06-25</td>\n",
       "    </tr>\n",
       "  </tbody>\n",
       "</table>\n",
       "</div>"
      ],
      "text/plain": [
       "         Date                       Name  Year         Letterboxd URI  Rating  \\\n",
       "0  2018-06-20              Incredibles 2  2018  https://boxd.it/tfLaD     2.5   \n",
       "1  2018-06-21             First Reformed  2017  https://boxd.it/thF1f     4.0   \n",
       "2  2018-06-22                      Carol  2015  https://boxd.it/tkNv9     4.5   \n",
       "3  2018-06-23  Won't You Be My Neighbor?  2018  https://boxd.it/tmk1X     5.0   \n",
       "4  2018-06-26                 The Intern  2015  https://boxd.it/ttCn7     3.0   \n",
       "\n",
       "  Rewatch Tags Watched Date  \n",
       "0     NaN  NaN   2018-06-16  \n",
       "1     Yes  NaN   2018-06-19  \n",
       "2     NaN  NaN   2018-06-21  \n",
       "3     NaN  NaN   2018-06-22  \n",
       "4     Yes  NaN   2018-06-25  "
      ]
     },
     "execution_count": 46,
     "metadata": {},
     "output_type": "execute_result"
    }
   ],
   "source": [
    "df2 = pd.read_csv('diary.csv')\n",
    "df2.head()"
   ]
  },
  {
   "cell_type": "code",
   "execution_count": 47,
   "id": "19ccc402",
   "metadata": {},
   "outputs": [
    {
     "data": {
      "text/html": [
       "<div>\n",
       "<style scoped>\n",
       "    .dataframe tbody tr th:only-of-type {\n",
       "        vertical-align: middle;\n",
       "    }\n",
       "\n",
       "    .dataframe tbody tr th {\n",
       "        vertical-align: top;\n",
       "    }\n",
       "\n",
       "    .dataframe thead th {\n",
       "        text-align: right;\n",
       "    }\n",
       "</style>\n",
       "<table border=\"1\" class=\"dataframe\">\n",
       "  <thead>\n",
       "    <tr style=\"text-align: right;\">\n",
       "      <th></th>\n",
       "      <th>Name</th>\n",
       "      <th>Rewatch</th>\n",
       "      <th>Watched Date</th>\n",
       "    </tr>\n",
       "  </thead>\n",
       "  <tbody>\n",
       "    <tr>\n",
       "      <th>0</th>\n",
       "      <td>Incredibles 2</td>\n",
       "      <td>NaN</td>\n",
       "      <td>2018-06-16</td>\n",
       "    </tr>\n",
       "    <tr>\n",
       "      <th>1</th>\n",
       "      <td>First Reformed</td>\n",
       "      <td>Yes</td>\n",
       "      <td>2018-06-19</td>\n",
       "    </tr>\n",
       "    <tr>\n",
       "      <th>2</th>\n",
       "      <td>Carol</td>\n",
       "      <td>NaN</td>\n",
       "      <td>2018-06-21</td>\n",
       "    </tr>\n",
       "    <tr>\n",
       "      <th>3</th>\n",
       "      <td>Won't You Be My Neighbor?</td>\n",
       "      <td>NaN</td>\n",
       "      <td>2018-06-22</td>\n",
       "    </tr>\n",
       "    <tr>\n",
       "      <th>4</th>\n",
       "      <td>The Intern</td>\n",
       "      <td>Yes</td>\n",
       "      <td>2018-06-25</td>\n",
       "    </tr>\n",
       "  </tbody>\n",
       "</table>\n",
       "</div>"
      ],
      "text/plain": [
       "                        Name Rewatch Watched Date\n",
       "0              Incredibles 2     NaN   2018-06-16\n",
       "1             First Reformed     Yes   2018-06-19\n",
       "2                      Carol     NaN   2018-06-21\n",
       "3  Won't You Be My Neighbor?     NaN   2018-06-22\n",
       "4                 The Intern     Yes   2018-06-25"
      ]
     },
     "execution_count": 47,
     "metadata": {},
     "output_type": "execute_result"
    }
   ],
   "source": [
    "drop_columns = ['Date', 'Year', 'Letterboxd URI', 'Rating', 'Tags']\n",
    "diary = df2.drop(labels = drop_columns, axis = 1)\n",
    "diary.head()"
   ]
  },
  {
   "cell_type": "code",
   "execution_count": 48,
   "id": "f3108185",
   "metadata": {},
   "outputs": [
    {
     "data": {
      "text/html": [
       "<div>\n",
       "<style scoped>\n",
       "    .dataframe tbody tr th:only-of-type {\n",
       "        vertical-align: middle;\n",
       "    }\n",
       "\n",
       "    .dataframe tbody tr th {\n",
       "        vertical-align: top;\n",
       "    }\n",
       "\n",
       "    .dataframe thead th {\n",
       "        text-align: right;\n",
       "    }\n",
       "</style>\n",
       "<table border=\"1\" class=\"dataframe\">\n",
       "  <thead>\n",
       "    <tr style=\"text-align: right;\">\n",
       "      <th></th>\n",
       "      <th>Title</th>\n",
       "      <th>Rewatch</th>\n",
       "      <th>Watched Date</th>\n",
       "    </tr>\n",
       "  </thead>\n",
       "  <tbody>\n",
       "    <tr>\n",
       "      <th>0</th>\n",
       "      <td>Incredibles 2</td>\n",
       "      <td>NaN</td>\n",
       "      <td>2018-06-16</td>\n",
       "    </tr>\n",
       "    <tr>\n",
       "      <th>1</th>\n",
       "      <td>First Reformed</td>\n",
       "      <td>Yes</td>\n",
       "      <td>2018-06-19</td>\n",
       "    </tr>\n",
       "    <tr>\n",
       "      <th>2</th>\n",
       "      <td>Carol</td>\n",
       "      <td>NaN</td>\n",
       "      <td>2018-06-21</td>\n",
       "    </tr>\n",
       "    <tr>\n",
       "      <th>3</th>\n",
       "      <td>Won't You Be My Neighbor?</td>\n",
       "      <td>NaN</td>\n",
       "      <td>2018-06-22</td>\n",
       "    </tr>\n",
       "    <tr>\n",
       "      <th>4</th>\n",
       "      <td>The Intern</td>\n",
       "      <td>Yes</td>\n",
       "      <td>2018-06-25</td>\n",
       "    </tr>\n",
       "  </tbody>\n",
       "</table>\n",
       "</div>"
      ],
      "text/plain": [
       "                       Title Rewatch Watched Date\n",
       "0              Incredibles 2     NaN   2018-06-16\n",
       "1             First Reformed     Yes   2018-06-19\n",
       "2                      Carol     NaN   2018-06-21\n",
       "3  Won't You Be My Neighbor?     NaN   2018-06-22\n",
       "4                 The Intern     Yes   2018-06-25"
      ]
     },
     "execution_count": 48,
     "metadata": {},
     "output_type": "execute_result"
    }
   ],
   "source": [
    "column_mapper = {'Name': 'Title'}\n",
    "diary = diary.rename(mapper = column_mapper, axis = 1)\n",
    "diary.head()"
   ]
  },
  {
   "cell_type": "code",
   "execution_count": 71,
   "id": "0f65a5ed",
   "metadata": {},
   "outputs": [
    {
     "data": {
      "text/plain": [
       "No     702\n",
       "Yes    464\n",
       "Name: Rewatch, dtype: int64"
      ]
     },
     "execution_count": 71,
     "metadata": {},
     "output_type": "execute_result"
    }
   ],
   "source": [
    "diary['Rewatch'].fillna('No', inplace = True)\n",
    "diary['Rewatch'].value_counts()"
   ]
  },
  {
   "cell_type": "code",
   "execution_count": 77,
   "id": "70fd3890",
   "metadata": {},
   "outputs": [
    {
     "data": {
      "image/png": "[encoded data removed]",
      "text/plain": [
       "<Figure size 640x480 with 1 Axes>"
      ]
     },
     "metadata": {},
     "output_type": "display_data"
    }
   ],
   "source": [
    "import numpy as np\n",
    "\n",
    "y = np.array([(702/1166), (464/1166)])\n",
    "pie_labels = ['First Watch', 'Rewatch']\n",
    "\n",
    "plt.clf()\n",
    "plt.pie(y, labels=pie_labels, wedgeprops={'edgecolor': 'black'}, autopct='%1.2f%%')\n",
    "plt.show()"
   ]
  },
  {
   "cell_type": "code",
   "execution_count": 49,
   "id": "812787a6",
   "metadata": {},
   "outputs": [
    {
     "name": "stdout",
     "output_type": "stream",
     "text": [
      "\n",
      "\n",
      "                  Name  Year\n",
      "20       Andrei Rublev  1966\n",
      "77       The Creatures  1966\n",
      "82             Daisies  1966\n",
      "256            Persona  1966\n",
      "324  The Sword of Doom  1966\n",
      "\n",
      "You should watch 'The Sword of Doom' tonight!\n"
     ]
    },
    {
     "data": {
      "text/plain": [
       "'The Sword of Doom'"
      ]
     },
     "execution_count": 49,
     "metadata": {},
     "output_type": "execute_result"
    }
   ],
   "source": [
    "# Define function to return randomized film recommendation from the inputted year\n",
    "\n",
    "def rec_by_year(film_library):\n",
    "    \n",
    "    rec_id = 0\n",
    "    recommendation = ''\n",
    "    \n",
    "    print()\n",
    "    movie_year = int(input('Enter a year: '))\n",
    "    year_titles_df = film_library[film_library['Year'] == movie_year]\n",
    "    \n",
    "    print()\n",
    "    print(year_titles_df)\n",
    "    print()\n",
    "    \n",
    "    # Rest of the function prints out randomized selection from dataset gathered above\n",
    "    time.sleep(3.0)\n",
    "    \n",
    "    year_titles_series = film_library[film_library['Year'] == movie_year]['Name']\n",
    "    year_titles = list(year_titles_series)\n",
    "    \n",
    "    if len(year_titles) < 1:\n",
    "        print('I own 0 films from this year.')\n",
    "        return None\n",
    "    else:\n",
    "        rec_id = random.randint(0, len(year_titles)-1)\n",
    "        recommendation = year_titles[rec_id]\n",
    "        \n",
    "    print('You should watch \\'{rec}\\' tonight!'.format(rec = recommendation))\n",
    "    \n",
    "    return recommendation\n",
    "\n",
    "rec_by_year(film_lib)"
   ]
  },
  {
   "cell_type": "code",
   "execution_count": 50,
   "id": "54185efe",
   "metadata": {},
   "outputs": [
    {
     "name": "stdout",
     "output_type": "stream",
     "text": [
      "\n",
      "\n",
      "You last saw 'Psycho' on Wednesday, May 13, 2020. That was 1048 days ago.\n"
     ]
    },
    {
     "data": {
      "text/plain": [
       "('2020-05-13', '1048 days')"
      ]
     },
     "execution_count": 50,
     "metadata": {},
     "output_type": "execute_result"
    }
   ],
   "source": [
    "# Define function that returns most recent date the entered film was watched by the film collection owner\n",
    "\n",
    "def last_seen(dates_df):\n",
    "    \n",
    "    print()\n",
    "    film_title = input('Enter a film title: ')\n",
    "    df_title = ''\n",
    "    print()\n",
    "    date_lst = []\n",
    "    \n",
    "    for i in range(len(dates_df)):\n",
    "        if dates_df.iloc[i]['Title'].lower() == film_title.lower():\n",
    "            date_lst.append(dates_df.iloc[i]['Watched Date'])\n",
    "            df_title = dates_df.iloc[i]['Title']\n",
    "    if not date_lst:\n",
    "            print('Sorry, you haven\\'t watched this film since you began logging on Letterboxd!')\n",
    "            return None\n",
    "    else:\n",
    "        date_last_seen = date_lst[-1]\n",
    "            \n",
    "    ls_split = date_last_seen.split('-')\n",
    "    last_seen = ls_split[1] + '-' + ls_split[2] + '-' + ls_split[0]\n",
    "        \n",
    "    raw_date = datetime.strptime(last_seen, '%m-%d-%Y')\n",
    "    date_str = datetime.strftime(raw_date, '%A, %B %d, %Y')\n",
    "        \n",
    "    ago_date = datetime.now() - raw_date\n",
    "    ago_str = str(ago_date).split(',')\n",
    "    days_ago = ago_str[0]\n",
    "        \n",
    "    print('You last saw \\'{film}\\' on {date}. That was {days} ago.'.format(film = df_title, date = date_str, days = days_ago))\n",
    "        \n",
    "    return date_last_seen, days_ago\n",
    "    \n",
    "last_seen(diary)"
   ]
  },
  {
   "cell_type": "code",
   "execution_count": 51,
   "id": "242a6c6e",
   "metadata": {},
   "outputs": [
    {
     "name": "stdout",
     "output_type": "stream",
     "text": [
      "Hello!\n",
      "What feature would you like to use?\n",
      "\n",
      "1. Movie recommendation by year\n",
      "2. Last time you saw a particular film\n",
      "\n",
      "\n",
      "\n",
      "                  Name  Year\n",
      "160  In a Lonely Place  1950\n",
      "342             To Joy  1950\n",
      "\n",
      "You should watch 'To Joy' tonight!\n"
     ]
    }
   ],
   "source": [
    "# Welcome to the film recommendation tool:\n",
    "\n",
    "print('Hello!')\n",
    "print('What feature would you like to use?')\n",
    "print()\n",
    "print('1. Movie recommendation by year\\n2. Last time you saw a particular film')\n",
    "print()\n",
    "\n",
    "select_function = input(': ')\n",
    "\n",
    "if select_function == '1':\n",
    "    rec_by_year(film_lib)\n",
    "elif select_function == '2':\n",
    "    last_seen(diary)\n",
    "else:\n",
    "    print('Sorry, that was not an option!')"
   ]
  }
 ],
 "metadata": {
  "kernelspec": {
   "display_name": "Python 3 (ipykernel)",
   "language": "python",
   "name": "python3"
  },
  "language_info": {
   "codemirror_mode": {
    "name": "ipython",
    "version": 3
   },
   "file_extension": ".py",
   "mimetype": "text/x-python",
   "name": "python",
   "nbconvert_exporter": "python",
   "pygments_lexer": "ipython3",
   "version": "3.10.6"
  }
 },
 "nbformat": 4,
 "nbformat_minor": 5
}
